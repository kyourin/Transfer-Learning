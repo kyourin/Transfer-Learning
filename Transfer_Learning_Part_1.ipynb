{
  "nbformat": 4,
  "nbformat_minor": 0,
  "metadata": {
    "colab": {
      "name": "Transfer Learning with TensorFlow Part-1.ipynb",
      "provenance": [],
      "collapsed_sections": []
    },
    "kernelspec": {
      "name": "python3",
      "display_name": "Python 3"
    },
    "language_info": {
      "name": "python"
    },
    "accelerator": "GPU"
  },
  "cells": [
    {
      "cell_type": "code",
      "metadata": {
        "colab": {
          "base_uri": "https://localhost:8080/"
        },
        "id": "O4hQumda45NE",
        "outputId": "fe3eaa2c-2bf9-425b-c1db-e25e3ea0f715"
      },
      "source": [
        "# Downloding the data\n",
        "\n",
        "import zipfile\n",
        "\n",
        "!wget https://storage.googleapis.com/ztm_tf_course/food_vision/10_food_classes_10_percent.zip\n",
        "\n",
        "zip_ref = zipfile.ZipFile(\"10_food_classes_10_percent.zip\")\n",
        "zip_ref.extractall()\n",
        "zip_ref.close()"
      ],
      "execution_count": null,
      "outputs": [
        {
          "output_type": "stream",
          "text": [
            "--2021-07-07 09:50:21--  https://storage.googleapis.com/ztm_tf_course/food_vision/10_food_classes_10_percent.zip\n",
            "Resolving storage.googleapis.com (storage.googleapis.com)... 142.250.73.240, 142.250.65.80, 142.250.188.208, ...\n",
            "Connecting to storage.googleapis.com (storage.googleapis.com)|142.250.73.240|:443... connected.\n",
            "HTTP request sent, awaiting response... 200 OK\n",
            "Length: 168546183 (161M) [application/zip]\n",
            "Saving to: ‘10_food_classes_10_percent.zip’\n",
            "\n",
            "10_food_classes_10_ 100%[===================>] 160.74M   174MB/s    in 0.9s    \n",
            "\n",
            "2021-07-07 09:50:22 (174 MB/s) - ‘10_food_classes_10_percent.zip’ saved [168546183/168546183]\n",
            "\n"
          ],
          "name": "stdout"
        }
      ]
    },
    {
      "cell_type": "code",
      "metadata": {
        "id": "h9yThr6GDVGj"
      },
      "source": [
        "import tensorflow as tf\n",
        "from tensorflow.keras.preprocessing.image import ImageDataGenerator\n",
        "import matplotlib.pyplot as plt\n",
        "import os"
      ],
      "execution_count": null,
      "outputs": []
    },
    {
      "cell_type": "code",
      "metadata": {
        "colab": {
          "base_uri": "https://localhost:8080/"
        },
        "id": "OF4Ac4y9C_fC",
        "outputId": "600f3fd8-e16b-47e7-e539-64f489564e94"
      },
      "source": [
        "train_dir = \"/content/10_food_classes_10_percent/train\"\n",
        "test_dir = \"/content/10_food_classes_10_percent/test\"\n",
        "\n",
        "train_datagen = ImageDataGenerator(rescale=1/255.)                \n",
        "test_datagen = ImageDataGenerator(rescale=1/255.)\n",
        "                                  \n",
        "\n",
        "train_data = train_datagen.flow_from_directory(train_dir,\n",
        "                                               target_size = (224, 224),\n",
        "                                               class_mode = \"categorical\",\n",
        "                                               batch_size = 32)\n",
        "\n",
        "test_data = test_datagen.flow_from_directory(test_dir,\n",
        "                                             target_size = (224, 224),\n",
        "                                             class_mode = \"categorical\",\n",
        "                                             batch_size = 32)"
      ],
      "execution_count": null,
      "outputs": [
        {
          "output_type": "stream",
          "text": [
            "Found 750 images belonging to 10 classes.\n",
            "Found 2500 images belonging to 10 classes.\n"
          ],
          "name": "stdout"
        }
      ]
    },
    {
      "cell_type": "code",
      "metadata": {
        "colab": {
          "base_uri": "https://localhost:8080/"
        },
        "id": "pMPE1wMhNdm_",
        "outputId": "1e8f9b62-60fb-4b6c-b803-2c32ab644a73"
      },
      "source": [
        "for dirpath, dirnames, filenames in os.walk(\"10_food_classes_10_percent\"):\n",
        "  print(f\"There are {len(dirnames)} directories and {len(filenames)} images in '{dirpath}'.\")"
      ],
      "execution_count": null,
      "outputs": [
        {
          "output_type": "stream",
          "text": [
            "There are 2 directories and 0 images in '10_food_classes_10_percent'.\n",
            "There are 10 directories and 0 images in '10_food_classes_10_percent/test'.\n",
            "There are 0 directories and 250 images in '10_food_classes_10_percent/test/pizza'.\n",
            "There are 0 directories and 250 images in '10_food_classes_10_percent/test/grilled_salmon'.\n",
            "There are 0 directories and 250 images in '10_food_classes_10_percent/test/sushi'.\n",
            "There are 0 directories and 250 images in '10_food_classes_10_percent/test/ice_cream'.\n",
            "There are 0 directories and 250 images in '10_food_classes_10_percent/test/steak'.\n",
            "There are 0 directories and 250 images in '10_food_classes_10_percent/test/fried_rice'.\n",
            "There are 0 directories and 250 images in '10_food_classes_10_percent/test/chicken_wings'.\n",
            "There are 0 directories and 250 images in '10_food_classes_10_percent/test/ramen'.\n",
            "There are 0 directories and 250 images in '10_food_classes_10_percent/test/chicken_curry'.\n",
            "There are 0 directories and 250 images in '10_food_classes_10_percent/test/hamburger'.\n",
            "There are 10 directories and 0 images in '10_food_classes_10_percent/train'.\n",
            "There are 0 directories and 75 images in '10_food_classes_10_percent/train/pizza'.\n",
            "There are 0 directories and 75 images in '10_food_classes_10_percent/train/grilled_salmon'.\n",
            "There are 0 directories and 75 images in '10_food_classes_10_percent/train/sushi'.\n",
            "There are 0 directories and 75 images in '10_food_classes_10_percent/train/ice_cream'.\n",
            "There are 0 directories and 75 images in '10_food_classes_10_percent/train/steak'.\n",
            "There are 0 directories and 75 images in '10_food_classes_10_percent/train/fried_rice'.\n",
            "There are 0 directories and 75 images in '10_food_classes_10_percent/train/chicken_wings'.\n",
            "There are 0 directories and 75 images in '10_food_classes_10_percent/train/ramen'.\n",
            "There are 0 directories and 75 images in '10_food_classes_10_percent/train/chicken_curry'.\n",
            "There are 0 directories and 75 images in '10_food_classes_10_percent/train/hamburger'.\n"
          ],
          "name": "stdout"
        }
      ]
    },
    {
      "cell_type": "markdown",
      "metadata": {
        "id": "ZCht6KEhPN82"
      },
      "source": [
        "# Setting up Callbacks"
      ]
    },
    {
      "cell_type": "code",
      "metadata": {
        "id": "gSG0TQfdUbZy"
      },
      "source": [
        "# Create a TensorBoard callback (we'll functionize this callback as we'll use it later on again and again)\n",
        "\n",
        "import datetime\n",
        "\n",
        "def create_tensorboard_callback(dir_name, experiment_name):\n",
        "  \n",
        "  log_dir = dir_name + \"/\" + experiment_name + \"/\" + datetime.datetime.now().strftime(\"%Y%m%d-%H%M%S\")\n",
        "  tensorboard_callback = tf.keras.callbacks.TensorBoard(log_dir)\n",
        "  print(f\"Saving TensorBoard log files to: {log_dir}\")\n",
        "  return tensorboard_callback"
      ],
      "execution_count": null,
      "outputs": []
    },
    {
      "cell_type": "markdown",
      "metadata": {
        "id": "cEflDKIjZ6kL"
      },
      "source": [
        "## Creating models using TensorFlow Hub"
      ]
    },
    {
      "cell_type": "code",
      "metadata": {
        "id": "xmwmEPBsao3B"
      },
      "source": [
        "# Comparing Resnet and Efficientnet models\n",
        "\n",
        "resnet_url = \"https://tfhub.dev/google/imagenet/resnet_v2_50/feature_vector/5\"\n",
        "efficientnet_url = \"https://tfhub.dev/tensorflow/efficientnet/b0/feature-vector/1\""
      ],
      "execution_count": null,
      "outputs": []
    },
    {
      "cell_type": "code",
      "metadata": {
        "id": "J6LS01Hw7AY_"
      },
      "source": [
        "# Import dependencies\n",
        "\n",
        "import tensorflow as tf\n",
        "import tensorflow_hub as hub\n",
        "from tensorflow.keras import layers"
      ],
      "execution_count": null,
      "outputs": []
    },
    {
      "cell_type": "code",
      "metadata": {
        "id": "xqFVdHHv7PM4"
      },
      "source": [
        "# Making a create_model() function to create a model from a URL\n",
        "\n",
        "def create_model(model_url, num_classes = 10):\n",
        "  \"\"\"\n",
        "  Takes a TensorFlow Hub URL and creates a Keras Sequential model with it.\n",
        "  Args:\n",
        "    model_url (str): A TensorFlow Hub feature extraction URL.\n",
        "    num_classes (int): Number of output neurons in the output layer, should be equal to the number of target classes, default 10.\n",
        "  Returns:\n",
        "    An uncompiled Keras Sequential model with model_url as feature extractor layer and Dense output layer with num_classes output neurons.\n",
        "  \"\"\"\n",
        "  # Download the pretrained model and save it as a Keras layer\n",
        "\n",
        "  feature_extraction_layer = hub.KerasLayer(model_url,\n",
        "                                           trainable=False, #Freeze the already learned patterns.\n",
        "                                           name = \"feature_extraction_layer\",\n",
        "                                           input_shape = IMAGE_SHAPE+(3,)) \n",
        "  \n",
        "  # Creating the model\n",
        "  model = tf.keras.models.Sequential([\n",
        "    feature_extraction_layer,\n",
        "    layers.Dense(num_classes, activation=\"softmax\", name = \"output_layer\")\n",
        "  ])\n",
        "\n",
        "  return model"
      ],
      "execution_count": null,
      "outputs": []
    },
    {
      "cell_type": "markdown",
      "metadata": {
        "id": "RwzIgX9MA4tP"
      },
      "source": [
        "# Creating and testing ResNet TensorFlow Hub Feature Extraction model"
      ]
    },
    {
      "cell_type": "code",
      "metadata": {
        "id": "mKznDS3dAJUB"
      },
      "source": [
        "# Create Resnet model\n",
        "\n",
        "IMAGE_SHAPE = (224, 224)\n",
        "resnet_model = create_model(resnet_url, 10)"
      ],
      "execution_count": null,
      "outputs": []
    },
    {
      "cell_type": "code",
      "metadata": {
        "colab": {
          "base_uri": "https://localhost:8080/"
        },
        "id": "krcqn_PcBOnV",
        "outputId": "b5c01756-64d1-4c56-9589-c98a0967281b"
      },
      "source": [
        "resnet_model.summary()"
      ],
      "execution_count": null,
      "outputs": [
        {
          "output_type": "stream",
          "text": [
            "Model: \"sequential\"\n",
            "_________________________________________________________________\n",
            "Layer (type)                 Output Shape              Param #   \n",
            "=================================================================\n",
            "feature_extraction_layer (Ke (None, 2048)              23564800  \n",
            "_________________________________________________________________\n",
            "output_layer (Dense)         (None, 10)                20490     \n",
            "=================================================================\n",
            "Total params: 23,585,290\n",
            "Trainable params: 20,490\n",
            "Non-trainable params: 23,564,800\n",
            "_________________________________________________________________\n"
          ],
          "name": "stdout"
        }
      ]
    },
    {
      "cell_type": "code",
      "metadata": {
        "id": "_RyBDKwkBR2X"
      },
      "source": [
        "# Compiling the model\n",
        "\n",
        "resnet_model.compile(loss = tf.keras.losses.categorical_crossentropy,\n",
        "                     optimizer = tf.keras.optimizers.Adam(),\n",
        "                     metrics = [\"accuracy\"])"
      ],
      "execution_count": null,
      "outputs": []
    },
    {
      "cell_type": "code",
      "metadata": {
        "colab": {
          "base_uri": "https://localhost:8080/"
        },
        "id": "LMQBKuIfCc82",
        "outputId": "ac289958-17ad-411e-a92a-5f9a47a62aa5"
      },
      "source": [
        "# Fitting the model\n",
        "\n",
        "history = resnet_model.fit(train_data, epochs=5, steps_per_epoch=len(train_data), validation_data=test_data, validation_steps=len(test_data), callbacks=[create_tensorboard_callback(\"history\", \"model\")])"
      ],
      "execution_count": null,
      "outputs": [
        {
          "output_type": "stream",
          "text": [
            "Saving TensorBoard log files to: history/model/20210706-193613\n",
            "Epoch 1/5\n",
            "24/24 [==============================] - 17s 707ms/step - loss: 0.1446 - accuracy: 0.9907 - val_loss: 0.6232 - val_accuracy: 0.7980\n",
            "Epoch 2/5\n",
            "24/24 [==============================] - 16s 671ms/step - loss: 0.1255 - accuracy: 0.9933 - val_loss: 0.6234 - val_accuracy: 0.7968\n",
            "Epoch 3/5\n",
            "24/24 [==============================] - 16s 669ms/step - loss: 0.1128 - accuracy: 0.9973 - val_loss: 0.6181 - val_accuracy: 0.7984\n",
            "Epoch 4/5\n",
            "24/24 [==============================] - 15s 659ms/step - loss: 0.0993 - accuracy: 0.9973 - val_loss: 0.6158 - val_accuracy: 0.8020\n",
            "Epoch 5/5\n",
            "24/24 [==============================] - 15s 658ms/step - loss: 0.0894 - accuracy: 0.9973 - val_loss: 0.6160 - val_accuracy: 0.7972\n"
          ],
          "name": "stdout"
        }
      ]
    },
    {
      "cell_type": "code",
      "metadata": {
        "colab": {
          "base_uri": "https://localhost:8080/",
          "height": 626
        },
        "id": "SqKRxh67Da2m",
        "outputId": "9783d819-f023-45f5-8083-2739ab5eba41"
      },
      "source": [
        "import pandas as pd\n",
        "import matplotlib.pyplot as plt\n",
        "\n",
        "plt.figure()\n",
        "pd.DataFrame(history.history).plot(figsize = (10,10))"
      ],
      "execution_count": null,
      "outputs": [
        {
          "output_type": "execute_result",
          "data": {
            "text/plain": [
              "<matplotlib.axes._subplots.AxesSubplot at 0x7f2862bce910>"
            ]
          },
          "metadata": {
            "tags": []
          },
          "execution_count": 33
        },
        {
          "output_type": "display_data",
          "data": {
            "text/plain": [
              "<Figure size 432x288 with 0 Axes>"
            ]
          },
          "metadata": {
            "tags": []
          }
        },
        {
          "output_type": "display_data",
          "data": {
            "image/png": "[encoded data removed]",
            "text/plain": [
              "<Figure size 720x720 with 1 Axes>"
            ]
          },
          "metadata": {
            "tags": [],
            "needs_background": "light"
          }
        }
      ]
    },
    {
      "cell_type": "code",
      "metadata": {
        "id": "I4cfYdXFRdaE"
      },
      "source": [
        "# Function to plot the loss curves\n",
        "\n",
        "def plot_loss_curves(history):\n",
        "  \n",
        "  loss = history.history[\"loss\"]\n",
        "  val_loss = history.history[\"val_loss\"]\n",
        "  accuracy = history.history[\"accuracy\"]\n",
        "  val_accuracy = history.history[\"val_accuracy\"]\n",
        "  epochs = range(len(history.history[\"loss\"]))\n",
        "\n",
        "  # Plot loss\n",
        "  plt.figure()\n",
        "  plt.plot(epochs, loss, label=\"training loss\")\n",
        "  plt.plot(epochs, val_loss, label=\"validation loss\")\n",
        "  plt.title(\"loss\")\n",
        "  plt.xlabel(\"epochs\")\n",
        "  plt.legend()\n",
        "\n",
        "  # Plot accuracy\n",
        "  plt.figure()\n",
        "  plt.plot(epochs, accuracy, label=\"training accuracy\")\n",
        "  plt.plot(epochs, val_accuracy, label=\"validation accuracy\")\n",
        "  plt.title(\"accuracy\")\n",
        "  plt.xlabel(\"epochs\")\n",
        "  plt.legend"
      ],
      "execution_count": null,
      "outputs": []
    },
    {
      "cell_type": "code",
      "metadata": {
        "colab": {
          "base_uri": "https://localhost:8080/",
          "height": 573
        },
        "id": "r8AlcARPT19l",
        "outputId": "d79b528e-8fc9-4bb9-c80a-9837f03cd546"
      },
      "source": [
        "plot_loss_curves(history)"
      ],
      "execution_count": null,
      "outputs": [
        {
          "output_type": "display_data",
          "data": {
            "image/png": "[encoded data removed]",
            "text/plain": [
              "<Figure size 432x288 with 1 Axes>"
            ]
          },
          "metadata": {
            "tags": [],
            "needs_background": "light"
          }
        },
        {
          "output_type": "display_data",
          "data": {
            "image/png": "[encoded data removed]",
            "text/plain": [
              "<Figure size 432x288 with 1 Axes>"
            ]
          },
          "metadata": {
            "tags": [],
            "needs_background": "light"
          }
        }
      ]
    },
    {
      "cell_type": "markdown",
      "metadata": {
        "id": "pZLCgr8QWsWo"
      },
      "source": [
        "# Creating and testing EfficientNet TensorFlow Hub Feature Extraction model"
      ]
    },
    {
      "cell_type": "code",
      "metadata": {
        "id": "_81l2IWmUOmI"
      },
      "source": [
        "model_efficientNet = create_model(efficientnet_url, 10)"
      ],
      "execution_count": null,
      "outputs": []
    },
    {
      "cell_type": "code",
      "metadata": {
        "id": "6Zg3gpR9Wyz0"
      },
      "source": [
        "model_efficientNet.compile(loss = tf.keras.losses.categorical_crossentropy,\n",
        "                           optimizer = tf.keras.optimizers.Adam(),\n",
        "                           metrics = [\"accuracy\"])"
      ],
      "execution_count": null,
      "outputs": []
    },
    {
      "cell_type": "code",
      "metadata": {
        "colab": {
          "base_uri": "https://localhost:8080/"
        },
        "id": "CvnbrIH9XBBf",
        "outputId": "debdb203-b701-4b24-9cb0-e05155be9335"
      },
      "source": [
        "history_efficientNet = model_efficientNet.fit(train_data,\n",
        "                                             epochs = 5,\n",
        "                                             steps_per_epoch = len(train_data),\n",
        "                                             validation_data = test_data,\n",
        "                                             validation_steps = len(test_data),\n",
        "                                             callbacks = [create_tensorboard_callback(\"efficient_net_history\",\n",
        "                                                                                      \"model_efficientNet\")])\n",
        "\n",
        "# EfficientNet outperformed ResNet!!!"
      ],
      "execution_count": null,
      "outputs": [
        {
          "output_type": "stream",
          "text": [
            "Saving TensorBoard log files to: efficient_net_history/model_efficientNet/20210706-195303\n",
            "Epoch 1/5\n",
            "24/24 [==============================] - 16s 688ms/step - loss: 0.3953 - accuracy: 0.9147 - val_loss: 0.4962 - val_accuracy: 0.8696\n",
            "Epoch 2/5\n",
            "24/24 [==============================] - 15s 627ms/step - loss: 0.3533 - accuracy: 0.9307 - val_loss: 0.4760 - val_accuracy: 0.8676\n",
            "Epoch 3/5\n",
            "24/24 [==============================] - 15s 626ms/step - loss: 0.3177 - accuracy: 0.9413 - val_loss: 0.4594 - val_accuracy: 0.8752\n",
            "Epoch 4/5\n",
            "24/24 [==============================] - 15s 636ms/step - loss: 0.2864 - accuracy: 0.9520 - val_loss: 0.4459 - val_accuracy: 0.8732\n",
            "Epoch 5/5\n",
            "24/24 [==============================] - 15s 626ms/step - loss: 0.2623 - accuracy: 0.9640 - val_loss: 0.4364 - val_accuracy: 0.8768\n"
          ],
          "name": "stdout"
        }
      ]
    },
    {
      "cell_type": "code",
      "metadata": {
        "colab": {
          "base_uri": "https://localhost:8080/",
          "height": 573
        },
        "id": "TDeLKQCFXtr9",
        "outputId": "0fcfd31e-96f9-42b8-e406-f927ce0d45bd"
      },
      "source": [
        "plot_loss_curves(history_efficientNet)"
      ],
      "execution_count": null,
      "outputs": [
        {
          "output_type": "display_data",
          "data": {
            "image/png": "[encoded data removed]",
            "text/plain": [
              "<Figure size 432x288 with 1 Axes>"
            ]
          },
          "metadata": {
            "tags": [],
            "needs_background": "light"
          }
        },
        {
          "output_type": "display_data",
          "data": {
            "image/png": "[encoded data removed]",
            "text/plain": [
              "<Figure size 432x288 with 1 Axes>"
            ]
          },
          "metadata": {
            "tags": [],
            "needs_background": "light"
          }
        }
      ]
    },
    {
      "cell_type": "markdown",
      "metadata": {
        "id": "XK0cl487YuyA"
      },
      "source": [
        "# Comparing our models' results using TensorBoard"
      ]
    },
    {
      "cell_type": "code",
      "metadata": {
        "colab": {
          "base_uri": "https://localhost:8080/"
        },
        "id": "banxPFksbOcv",
        "outputId": "74ab9ddf-cb17-464c-aad7-55bff9cfe1dd"
      },
      "source": [
        "# Upload TensorBoard dev records\n",
        "\n",
        "!tensorboard dev upload --logdir ./histories/ \\\n",
        "  --name \"EfficientNetB0 vs. ResNet50v2\" \\\n",
        "  --description \"Comparing two different TF Hub feature extraction models architectures.\" \\\n",
        "  --one_shot"
      ],
      "execution_count": null,
      "outputs": [
        {
          "output_type": "stream",
          "text": [
            "2021-07-06 20:39:51.533858: I tensorflow/stream_executor/platform/default/dso_loader.cc:53] Successfully opened dynamic library libcudart.so.11.0\n",
            "\n",
            "***** TensorBoard Uploader *****\n",
            "\n",
            "This will upload your TensorBoard logs to https://tensorboard.dev/ from\n",
            "the following directory:\n",
            "\n",
            "./histories/\n",
            "\n",
            "This TensorBoard will be visible to everyone. Do not upload sensitive\n",
            "data.\n",
            "\n",
            "Your use of this service is subject to Google's Terms of Service\n",
            "<https://policies.google.com/terms> and Privacy Policy\n",
            "<https://policies.google.com/privacy>, and TensorBoard.dev's Terms of Service\n",
            "<https://tensorboard.dev/policy/terms/>.\n",
            "\n",
            "This notice will not be shown again while you are logged into the uploader.\n",
            "To log out, run `tensorboard dev auth revoke`.\n",
            "\n",
            "Continue? (yes/NO) yes\n",
            "\n",
            "Please visit this URL to authorize this application: https://accounts.google.com/o/oauth2/auth?response_type=code&client_id=373649185512-8v619h5kft38l4456nm2dj4ubeqsrvh6.apps.googleusercontent.com&redirect_uri=urn%3Aietf%3Awg%3Aoauth%3A2.0%3Aoob&scope=openid+https%3A%2F%2Fwww.googleapis.com%2Fauth%2Fuserinfo.email&state=0aCSesWGgLFOtc7miMCbJwLQfRoLSE&prompt=consent&access_type=offline\n",
            "Enter the authorization code: 4/1AX4XfWh4HSSNM7BuHLQMJlZSqK9f1JVI6paqGUKWRW_podJX6xZdFM80RRE\n",
            "\n",
            "Data for the \"text\" plugin is now uploaded to TensorBoard.dev! Note that uploaded data is public. If you do not want to upload data for this plugin, use the \"--plugins\" command line argument.\n",
            "\n",
            "New experiment created. View your TensorBoard at: https://tensorboard.dev/experiment/ugEoEMKSRRaWuZ9EMF6Wdw/\n",
            "\n",
            "\u001b[1m[2021-07-06T20:41:27]\u001b[0m Started scanning logdir.\n",
            "\u001b[1m[2021-07-06T20:41:32]\u001b[0m Total uploaded: 120 scalars, 0 tensors, 5 binary objects (15.4 MB)\n",
            "\u001b[1m[2021-07-06T20:41:32]\u001b[0m Done scanning logdir.\n",
            "\n",
            "\n",
            "Done. View your TensorBoard at https://tensorboard.dev/experiment/ugEoEMKSRRaWuZ9EMF6Wdw/\n"
          ],
          "name": "stdout"
        }
      ]
    },
    {
      "cell_type": "markdown",
      "metadata": {
        "id": "Mq3ITYcbi-Fv"
      },
      "source": [
        "Our experiments' results' link on tensorboard: https://tensorboard.dev/experiment/ugEoEMKSRRaWuZ9EMF6Wdw/"
      ]
    },
    {
      "cell_type": "code",
      "metadata": {
        "colab": {
          "base_uri": "https://localhost:8080/"
        },
        "id": "EukgZVn-k8fD",
        "outputId": "04fdd392-81f2-420c-d372-51c4606782fb"
      },
      "source": [
        "# Chesck out what TensorBoard experiments we have\n",
        "\n",
        "!tensorboard dev list"
      ],
      "execution_count": null,
      "outputs": [
        {
          "output_type": "stream",
          "text": [
            "2021-07-06 20:48:57.988714: I tensorflow/stream_executor/platform/default/dso_loader.cc:53] Successfully opened dynamic library libcudart.so.11.0\n",
            "Data for the \"text\" plugin is now uploaded to TensorBoard.dev! Note that uploaded data is public. If you do not want to upload data for this plugin, use the \"--plugins\" command line argument.\n",
            "https://tensorboard.dev/experiment/ugEoEMKSRRaWuZ9EMF6Wdw/\n",
            "\tName                 EfficientNetB0 vs. ResNet50v2\n",
            "\tDescription          Comparing two different TF Hub feature extraction models architectures.\n",
            "\tId                   ugEoEMKSRRaWuZ9EMF6Wdw\n",
            "\tCreated              2021-07-06 20:41:27 (7 minutes ago)\n",
            "\tUpdated              2021-07-06 20:41:32 (7 minutes ago)\n",
            "\tRuns                 9\n",
            "\tTags                 5\n",
            "\tScalars              120\n",
            "\tTensor bytes         0\n",
            "\tBinary object bytes  16108103\n",
            "Total: 1 experiment(s)\n"
          ],
          "name": "stdout"
        }
      ]
    },
    {
      "cell_type": "code",
      "metadata": {
        "colab": {
          "base_uri": "https://localhost:8080/",
          "height": 35
        },
        "id": "3q5NKlGxlLJc",
        "outputId": "6a761c4f-334f-4d51-bb91-0fbc2e88e2a3"
      },
      "source": [
        "# Deleting an experiment\n",
        "\"\"\"\n",
        "!tensorboard dev delete --experiment_id (yukarıdali dev listte yer alan silmek istediğimiz experiment ın (id)'sini (örn:ugEoEMKSRRaWuZ9EMF6Wdw) kopyalayıp yapıştırıyoruz)\n",
        "\"\"\""
      ],
      "execution_count": null,
      "outputs": [
        {
          "output_type": "execute_result",
          "data": {
            "application/vnd.google.colaboratory.intrinsic+json": {
              "type": "string"
            },
            "text/plain": [
              "\"\\n!tensorboard dev delete --experiment_id (yukarıdali dev listte yer alan silmek istediğimiz experiment ın (id)'sini (örn:ugEoEMKSRRaWuZ9EMF6Wdw) kopyalayıp yapıştırıyoruz)\\n\""
            ]
          },
          "metadata": {
            "tags": []
          },
          "execution_count": 58
        }
      ]
    },
    {
      "cell_type": "code",
      "metadata": {
        "id": "D6RFFcmyVrOn"
      },
      "source": [
        "import tensorflow as tf\n",
        "import tensorflow_hub as hub"
      ],
      "execution_count": null,
      "outputs": []
    },
    {
      "cell_type": "code",
      "metadata": {
        "id": "YIod4pKdVyx6"
      },
      "source": [
        "mobileNet_url = \"https://tfhub.dev/google/imagenet/mobilenet_v2_100_224/feature_vector/5\"\n",
        "\n",
        "feature_extraction_layer = hub.KerasLayer(mobileNet_url,\n",
        "                                          trainable = False,\n",
        "                                          input_shape = (224,224,3))"
      ],
      "execution_count": null,
      "outputs": []
    },
    {
      "cell_type": "code",
      "metadata": {
        "colab": {
          "base_uri": "https://localhost:8080/"
        },
        "id": "NPg-c5TxWjwa",
        "outputId": "b3b643fd-9113-44df-c1a1-1a56f17534b8"
      },
      "source": [
        "mobileNet_model = tf.keras.Sequential([feature_extraction_layer,\n",
        "                                       tf.keras.layers.Dense(10, activation=\"softmax\")])\n",
        "\n",
        "mobileNet_model.compile(loss = tf.keras.losses.categorical_crossentropy,\n",
        "                        optimizer = tf.keras.optimizers.Adam(),\n",
        "                        metrics = [\"accuracy\"])\n",
        "\n",
        "mobileNet_history = mobileNet_model.fit(train_data,\n",
        "                                        epochs = 5,\n",
        "                                        steps_per_epoch = len(train_data),\n",
        "                                        validation_data = test_data,\n",
        "                                        validation_steps = len(test_data),\n",
        "                                        callbacks = [create_tensorboard_callback(dir_name = \"histories\",\n",
        "                                                                                 experiment_name = \"mobileNet\")])"
      ],
      "execution_count": null,
      "outputs": [
        {
          "output_type": "stream",
          "text": [
            "Saving TensorBoard log files to: histories/mobileNet/20210707-095349\n",
            "Epoch 1/5\n",
            "24/24 [==============================] - 48s 681ms/step - loss: 2.0292 - accuracy: 0.3173 - val_loss: 1.3803 - val_accuracy: 0.5540\n",
            "Epoch 2/5\n",
            "24/24 [==============================] - 14s 601ms/step - loss: 1.0749 - accuracy: 0.6987 - val_loss: 0.9140 - val_accuracy: 0.7312\n",
            "Epoch 3/5\n",
            "24/24 [==============================] - 14s 596ms/step - loss: 0.7455 - accuracy: 0.8027 - val_loss: 0.7777 - val_accuracy: 0.7640\n",
            "Epoch 4/5\n",
            "24/24 [==============================] - 14s 597ms/step - loss: 0.6043 - accuracy: 0.8427 - val_loss: 0.7095 - val_accuracy: 0.7880\n",
            "Epoch 5/5\n",
            "24/24 [==============================] - 14s 596ms/step - loss: 0.4983 - accuracy: 0.8813 - val_loss: 0.6696 - val_accuracy: 0.7952\n"
          ],
          "name": "stdout"
        }
      ]
    },
    {
      "cell_type": "code",
      "metadata": {
        "colab": {
          "base_uri": "https://localhost:8080/",
          "height": 573
        },
        "id": "FZBXYpp0Y0j8",
        "outputId": "d41184fc-524a-4fe0-a4e0-10f80fbf9fde"
      },
      "source": [
        "plot_loss_curves(mobileNet_history)"
      ],
      "execution_count": null,
      "outputs": [
        {
          "output_type": "display_data",
          "data": {
            "image/png": "[encoded data removed]",
            "text/plain": [
              "<Figure size 432x288 with 1 Axes>"
            ]
          },
          "metadata": {
            "tags": [],
            "needs_background": "light"
          }
        },
        {
          "output_type": "display_data",
          "data": {
            "image/png": "[encoded data removed]",
            "text/plain": [
              "<Figure size 432x288 with 1 Axes>"
            ]
          },
          "metadata": {
            "tags": [],
            "needs_background": "light"
          }
        }
      ]
    }
  ]
}